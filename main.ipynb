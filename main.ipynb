{
 "cells": [
  {
   "cell_type": "code",
   "execution_count": 2,
   "metadata": {
    "collapsed": true
   },
   "outputs": [],
   "source": [
    "# Text Preprocessing\n",
    "\n",
    "# Text Cleaning: Menghapus tanda baca, angka, dan simbol yang tidak relevan"
   ]
  },
  {
   "cell_type": "code",
   "execution_count": 17,
   "outputs": [
    {
     "name": "stdout",
     "output_type": "stream",
     "text": [
      "Sebelum di cleaning:  Berikut ini adalah contOh tEks 123 untUK TExt clEANing!!\n",
      "Hasil text cleaning: berikut ini adalah contoh teks untuk text cleaning \n"
     ]
    }
   ],
   "source": [
    "import re\n",
    "\n",
    "def text_cleaning(text):\n",
    "    # Menghapus tanda baca dan angka\n",
    "    text = re.sub(r'[^a-zA-Z]', ' ', text)\n",
    "    # Menghapus spasi ganda\n",
    "    text = re.sub(r'\\s+', ' ', text)\n",
    "\n",
    "    # Menormalkan teks menjadi huruf kecil (normalization)\n",
    "    text = text.lower()\n",
    "    return text\n",
    "\n",
    "# Contoh teks yang akan dicleaning\n",
    "text = \"Berikut ini adalah contOh tEks 123 untUK TExt clEANing!!\"\n",
    "\n",
    "\n",
    "print(\"Sebelum di cleaning: \", text)\n",
    "\n",
    "# Menjalankan text cleaning\n",
    "text = text_cleaning(text)\n",
    "\n",
    "print(\"Hasil text cleaning:\", text)"
   ],
   "metadata": {
    "collapsed": false
   }
  },
  {
   "cell_type": "code",
   "execution_count": null,
   "outputs": [],
   "source": [
    "# Text Normalization\n",
    "\n",
    "# Stopword Removal -> Menghapus kata-kata yang sering muncul dalam bahasa, tetapi tidak memberikan informasi penting bagi pemahaman teks.\n",
    "\n",
    "# Stemming: Menghilangkan imbuhan pada akhir kata untuk mengurangi dimensi data dan memperkuat analisis."
   ],
   "metadata": {
    "collapsed": false
   }
  },
  {
   "cell_type": "code",
   "execution_count": 18,
   "outputs": [
    {
     "name": "stderr",
     "output_type": "stream",
     "text": [
      "[nltk_data] Downloading package stopwords to /home/sam/nltk_data...\n",
      "[nltk_data]   Package stopwords is already up-to-date!\n",
      "[nltk_data] Downloading package punkt to /home/sam/nltk_data...\n",
      "[nltk_data]   Package punkt is already up-to-date!\n"
     ]
    },
    {
     "data": {
      "text/plain": "True"
     },
     "execution_count": 18,
     "metadata": {},
     "output_type": "execute_result"
    }
   ],
   "source": [
    "import nltk\n",
    "from nltk.corpus import stopwords\n",
    "from nltk.tokenize import word_tokenize\n",
    "nltk.download(\"stopwords\")\n",
    "nltk.download(\"punkt\")"
   ],
   "metadata": {
    "collapsed": false
   }
  },
  {
   "cell_type": "code",
   "execution_count": 19,
   "outputs": [],
   "source": [
    "def stop_word(text):\n",
    "    # Tokenisasi teks\n",
    "    words = word_tokenize(text)\n",
    "    # Menghapus stopword\n",
    "    stop_words = set(stopwords.words(\"indonesian\"))\n",
    "    words = [word for word in words if word.lower() not in stop_words]\n",
    "    # Menggabungkan kembali kata-kata yang sudah dicleaning menjadi teks\n",
    "    text = \" \".join(words)\n",
    "    return text"
   ],
   "metadata": {
    "collapsed": false
   }
  },
  {
   "cell_type": "code",
   "execution_count": 20,
   "outputs": [
    {
     "name": "stdout",
     "output_type": "stream",
     "text": [
      "Hasil text cleaning: berikut ini adalah contoh teks untuk text cleaning \n"
     ]
    }
   ],
   "source": [
    "text = text_cleaning(text)\n",
    "print(\"Hasil text cleaning:\", text)"
   ],
   "metadata": {
    "collapsed": false
   }
  },
  {
   "cell_type": "code",
   "execution_count": null,
   "outputs": [],
   "source": [
    "# stemming -> Menghilangkan imbuhan pada akhir kata untuk mengurangi dimensi data dan memperkuat analisis."
   ],
   "metadata": {
    "collapsed": false
   }
  },
  {
   "cell_type": "code",
   "execution_count": 23,
   "outputs": [],
   "source": [
    "from Sastrawi.Stemmer.StemmerFactory import StemmerFactory\n",
    "\n",
    "factory = StemmerFactory()\n",
    "stemmer = factory.create_stemmer()\n",
    "\n",
    "def stem_text(text):\n",
    "    return stemmer.stem(text)\n"
   ],
   "metadata": {
    "collapsed": false
   }
  },
  {
   "cell_type": "code",
   "execution_count": 25,
   "outputs": [
    {
     "data": {
      "text/plain": "'ikut ini adalah contoh teks untuk text cleaning'"
     },
     "execution_count": 25,
     "metadata": {},
     "output_type": "execute_result"
    }
   ],
   "source": [
    "text = stem_text(text)\n",
    "text"
   ],
   "metadata": {
    "collapsed": false
   }
  },
  {
   "cell_type": "code",
   "execution_count": null,
   "outputs": [],
   "source": [
    "# tokenize"
   ],
   "metadata": {
    "collapsed": false
   }
  },
  {
   "cell_type": "code",
   "execution_count": 26,
   "outputs": [],
   "source": [
    "import nltk\n",
    "\n",
    "def tokenize_text(text):\n",
    "    return nltk.word_tokenize(text)\n"
   ],
   "metadata": {
    "collapsed": false
   }
  },
  {
   "cell_type": "code",
   "execution_count": 27,
   "outputs": [
    {
     "data": {
      "text/plain": "['ikut', 'ini', 'adalah', 'contoh', 'teks', 'untuk', 'text', 'cleaning']"
     },
     "execution_count": 27,
     "metadata": {},
     "output_type": "execute_result"
    }
   ],
   "source": [
    "textTokenized = tokenize_text(text)\n",
    "textTokenized"
   ],
   "metadata": {
    "collapsed": false
   }
  },
  {
   "cell_type": "code",
   "execution_count": null,
   "outputs": [],
   "source": [
    "# Text Representation: Mengubah teks menjadi representasi numerik yang dapat digunakan oleh mesin untuk melakukan analisis."
   ],
   "metadata": {
    "collapsed": false
   }
  },
  {
   "cell_type": "markdown",
   "source": [
    "Text representation adalah tahap dimana teks yang awalnya berupa string dikonversikan menjadi representasi numerik yang dapat diterima oleh model machine learning. Terdapat beberapa metode text representation, antara lain:\n",
    "\n",
    "One-hot Encoding\n",
    "Bag of Words (BoW)\n",
    "Term Frequency-Inverse Document Frequency (TF-IDF)\n",
    "Word Embeddings\n",
    "Dari metode-metode di atas, bag of words dan TF-IDF adalah dua metode text representation yang paling umum digunakan. Bag of words memrepresentasikan teks sebagai vektor dimana setiap elemen dari vektor mewakili sebuah kata dalam teks, sedangkan TF-IDF memrepresentasikan teks sebagai vektor dimana setiap elemen dari vektor mewakili seberapa penting sebuah kata dalam sebuah dokumen.\n",
    "\n",
    "Untuk membuat bag of words atau TF-IDF, kita memerlukan library seperti scikit-learn atau gensim. Namun, sebelum melakukan text representation, kita harus melakukan preprocessing terlebih dahulu, seperti text cleaning, tokenizing, dan stemming."
   ],
   "metadata": {
    "collapsed": false
   }
  },
  {
   "cell_type": "code",
   "execution_count": 29,
   "outputs": [
    {
     "name": "stdout",
     "output_type": "stream",
     "text": [
      "Document 0:\n",
      "[('document', 0.46979138557992045), ('first', 0.5802858236844359), ('is', 0.38408524091481483), ('the', 0.38408524091481483), ('this', 0.38408524091481483)]\n",
      "Document 1:\n",
      "[('document', 0.6876235979836938), ('is', 0.281088674033753), ('second', 0.5386476208856763), ('the', 0.281088674033753), ('this', 0.281088674033753)]\n",
      "Document 2:\n",
      "[('and', 0.511848512707169), ('is', 0.267103787642168), ('one', 0.511848512707169), ('the', 0.267103787642168), ('third', 0.511848512707169), ('this', 0.267103787642168)]\n",
      "Document 3:\n",
      "[('document', 0.46979138557992045), ('first', 0.5802858236844359), ('is', 0.38408524091481483), ('the', 0.38408524091481483), ('this', 0.38408524091481483)]\n"
     ]
    }
   ],
   "source": [
    "from sklearn.feature_extraction.text import TfidfVectorizer\n",
    "\n",
    "# data sample\n",
    "documents = ['this is the first document',\n",
    "             'this document is the second document',\n",
    "             'and this is the third one',\n",
    "             'is this the first document']\n",
    "\n",
    "# instance of TfidfVectorizer\n",
    "tfidf_vectorizer = TfidfVectorizer()\n",
    "\n",
    "# fit and transform\n",
    "tfidf = tfidf_vectorizer.fit_transform(documents)\n",
    "\n",
    "# get feature names\n",
    "feature_names = tfidf_vectorizer.get_feature_names_out()\n",
    "\n",
    "# convert to dense array\n",
    "dense = tfidf.todense()\n",
    "\n",
    "# print result\n",
    "for idx, doc in enumerate(dense):\n",
    "    print(\"Document {}:\".format(idx))\n",
    "    print([(feature_names[col_index], doc[0, col_index]) for col_index in doc.nonzero()[1]])\n"
   ],
   "metadata": {
    "collapsed": false
   }
  },
  {
   "cell_type": "code",
   "execution_count": 1,
   "outputs": [
    {
     "name": "stdout",
     "output_type": "stream",
     "text": [
      "[-5.3622725e-04  2.3643136e-04  5.1033497e-03  9.0092728e-03\n",
      " -9.3029495e-03 -7.1168090e-03  6.4588725e-03  8.9729885e-03\n",
      " -5.0154282e-03 -3.7633716e-03  7.3805046e-03 -1.5334714e-03\n",
      " -4.5366134e-03  6.5540518e-03 -4.8601604e-03 -1.8160177e-03\n",
      "  2.8765798e-03  9.9187379e-04 -8.2852151e-03 -9.4488179e-03\n",
      "  7.3117660e-03  5.0702621e-03  6.7576934e-03  7.6286553e-04\n",
      "  6.3508903e-03 -3.4053659e-03 -9.4640139e-04  5.7685734e-03\n",
      " -7.5216377e-03 -3.9361035e-03 -7.5115822e-03 -9.3004224e-04\n",
      "  9.5381187e-03 -7.3191668e-03 -2.3337686e-03 -1.9377411e-03\n",
      "  8.0774371e-03 -5.9308959e-03  4.5162440e-05 -4.7537340e-03\n",
      " -9.6035507e-03  5.0072931e-03 -8.7595852e-03 -4.3918253e-03\n",
      " -3.5099984e-05 -2.9618145e-04 -7.6612402e-03  9.6147433e-03\n",
      "  4.9820580e-03  9.2331432e-03 -8.1579173e-03  4.4957981e-03\n",
      " -4.1370760e-03  8.2453608e-04  8.4986202e-03 -4.4621765e-03\n",
      "  4.5175003e-03 -6.7869602e-03 -3.5484887e-03  9.3985079e-03\n",
      " -1.5776526e-03  3.2137157e-04 -4.1406299e-03 -7.6826881e-03\n",
      " -1.5080082e-03  2.4697948e-03 -8.8802696e-04  5.5336617e-03\n",
      " -2.7429771e-03  2.2600652e-03  5.4557943e-03  8.3459532e-03\n",
      " -1.4537406e-03 -9.2081428e-03  4.3705525e-03  5.7178497e-04\n",
      "  7.4419081e-03 -8.1328274e-04 -2.6384138e-03 -8.7530091e-03\n",
      " -8.5655687e-04  2.8265631e-03  5.4014288e-03  7.0526563e-03\n",
      " -5.7031214e-03  1.8588197e-03  6.0888636e-03 -4.7980510e-03\n",
      " -3.1072604e-03  6.7976294e-03  1.6314756e-03  1.8991709e-04\n",
      "  3.4736372e-03  2.1777749e-04  9.6188262e-03  5.0606038e-03\n",
      " -8.9173904e-03 -7.0415605e-03  9.0145587e-04  6.3925339e-03]\n"
     ]
    }
   ],
   "source": [
    "from gensim.models import Word2Vec\n",
    "\n",
    "# data sample\n",
    "sentences = [['this', 'is', 'the', 'first', 'sentence'],\n",
    "             ['this', 'sentence', 'is', 'the', 'second', 'sentence'],\n",
    "             ['and', 'this', 'is', 'the', 'third', 'sentence'],\n",
    "             ['is', 'this', 'the', 'first', 'sentence']]\n",
    "\n",
    "# instance of Word2Vec\n",
    "model = Word2Vec(sentences, min_count=1)\n",
    "\n",
    "# get word vector\n",
    "word_vector = model.wv['sentence']\n",
    "\n",
    "# print result\n",
    "print(word_vector)\n"
   ],
   "metadata": {
    "collapsed": false
   }
  }
 ],
 "metadata": {
  "kernelspec": {
   "display_name": "Python 3",
   "language": "python",
   "name": "python3"
  },
  "language_info": {
   "codemirror_mode": {
    "name": "ipython",
    "version": 2
   },
   "file_extension": ".py",
   "mimetype": "text/x-python",
   "name": "python",
   "nbconvert_exporter": "python",
   "pygments_lexer": "ipython2",
   "version": "2.7.6"
  }
 },
 "nbformat": 4,
 "nbformat_minor": 0
}
