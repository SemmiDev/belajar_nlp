{
 "cells": [
  {
   "cell_type": "code",
   "execution_count": 3,
   "metadata": {
    "collapsed": true
   },
   "outputs": [
    {
     "name": "stdout",
     "output_type": "stream",
     "text": [
      "Requirement already satisfied: Sastrawi in /home/sam/lib/python3.10/site-packages (1.0.1)\r\n",
      "Note: you may need to restart the kernel to use updated packages.\n"
     ]
    }
   ],
   "source": [
    "pip install Sastrawi"
   ]
  },
  {
   "cell_type": "code",
   "execution_count": 9,
   "outputs": [
    {
     "name": "stdout",
     "output_type": "stream",
     "text": [
      "[[1 0]\n",
      " [1 0]]\n",
      "              precision    recall  f1-score   support\n",
      "\n",
      "    negative       0.50      1.00      0.67         1\n",
      "    positive       0.00      0.00      0.00         1\n",
      "\n",
      "    accuracy                           0.50         2\n",
      "   macro avg       0.25      0.50      0.33         2\n",
      "weighted avg       0.25      0.50      0.33         2\n",
      "\n"
     ]
    },
    {
     "name": "stderr",
     "output_type": "stream",
     "text": [
      "/home/sam/lib/python3.10/site-packages/sklearn/metrics/_classification.py:1344: UndefinedMetricWarning: Precision and F-score are ill-defined and being set to 0.0 in labels with no predicted samples. Use `zero_division` parameter to control this behavior.\n",
      "  _warn_prf(average, modifier, msg_start, len(result))\n",
      "/home/sam/lib/python3.10/site-packages/sklearn/metrics/_classification.py:1344: UndefinedMetricWarning: Precision and F-score are ill-defined and being set to 0.0 in labels with no predicted samples. Use `zero_division` parameter to control this behavior.\n",
      "  _warn_prf(average, modifier, msg_start, len(result))\n",
      "/home/sam/lib/python3.10/site-packages/sklearn/metrics/_classification.py:1344: UndefinedMetricWarning: Precision and F-score are ill-defined and being set to 0.0 in labels with no predicted samples. Use `zero_division` parameter to control this behavior.\n",
      "  _warn_prf(average, modifier, msg_start, len(result))\n"
     ]
    }
   ],
   "source": [
    "# Import library yang dibutuhkan\n",
    "import numpy as np\n",
    "import pandas as pd\n",
    "import re\n",
    "from sklearn.feature_extraction.text import TfidfVectorizer\n",
    "from sklearn.linear_model import LogisticRegression\n",
    "from sklearn.metrics import confusion_matrix, classification_report\n",
    "from Sastrawi.Stemmer.StemmerFactory import StemmerFactory\n",
    "from sklearn.model_selection import train_test_split\n",
    "import pickle\n",
    "from flask import Flask, request\n",
    "\n",
    "# Membuat fungsi untuk text cleaning\n",
    "def text_cleaning(text):\n",
    "    # Lowercase teks\n",
    "    text = text.lower()\n",
    "\n",
    "    # Menghapus tanda baca dan angka\n",
    "    text = re.sub(r'[^a-z]+', ' ', text)\n",
    "\n",
    "    # Menghapus spasi yang berlebihan\n",
    "    text = re.sub(' +', ' ', text)\n",
    "\n",
    "    return text\n",
    "\n",
    "# Membuat fungsi untuk stemming\n",
    "def text_stemming(text):\n",
    "    factory = StemmerFactory()\n",
    "    stemmer = factory.create_stemmer()\n",
    "\n",
    "    text = stemmer.stem(text)\n",
    "\n",
    "    return text\n",
    "\n",
    "# Membaca data\n",
    "df = pd.read_csv('data.csv')\n",
    "\n",
    "# Melakukan text cleaning dan stemming pada data\n",
    "df['Text'] = df['Text'].apply(text_cleaning)\n",
    "df['Text'] = df['Text'].apply(text_stemming)\n",
    "\n",
    "# Membagi data menjadi data latih dan data uji\n",
    "X = df['Text'].values\n",
    "y = df['Sentiment'].values\n",
    "\n",
    "# Membuat object TfidfVectorizer\n",
    "vectorizer = TfidfVectorizer()\n",
    "\n",
    "# Transformasi teks menjadi representasi numerik (fitur)\n",
    "X = vectorizer.fit_transform(X)\n",
    "\n",
    "# Membagi data latih dan uji menjadi data latih dan data validasi\n",
    "X_train, X_test, y_train, y_test = train_test_split(X, y, test_size=0.2, random_state=0)\n",
    "\n",
    "# Membuat object LogisticRegression\n",
    "model = LogisticRegression(random_state=0)\n",
    "\n",
    "# Melatih model\n",
    "model.fit(X_train, y_train)\n",
    "\n",
    "# Evaluasi model\n",
    "y_pred = model.predict(X_test)\n",
    "\n",
    "# Mencetak matriks konfusi dan laporan klasifikasi\n",
    "print(confusion_matrix(y_test, y_pred))\n",
    "print(classification_report(y_test, y_pred))\n",
    "\n",
    "# Menyimpan model menggunakan pickle\n",
    "with open('model.pkl', 'wb') as f:\n",
    "    pickle.dump(model, f)\n",
    "\n",
    "# open model.pkl\n",
    "with open('model.pkl', 'rb') as f:\n",
    "    model = pickle.load(f)"
   ],
   "metadata": {
    "collapsed": false
   }
  },
  {
   "cell_type": "code",
   "execution_count": null,
   "outputs": [
    {
     "name": "stdout",
     "output_type": "stream",
     "text": [
      " * Serving Flask app '__main__'\n",
      " * Debug mode: off\n"
     ]
    },
    {
     "name": "stderr",
     "output_type": "stream",
     "text": [
      "\u001B[31m\u001B[1mWARNING: This is a development server. Do not use it in a production deployment. Use a production WSGI server instead.\u001B[0m\n",
      " * Running on http://127.0.0.1:5000\n",
      "\u001B[33mPress CTRL+C to quit\u001B[0m\n",
      "[2023-02-14 11:44:47,306] ERROR in app: Exception on /sentiment_analysis [POST]\n",
      "Traceback (most recent call last):\n",
      "  File \"/home/sam/lib/python3.10/site-packages/flask/app.py\", line 2525, in wsgi_app\n",
      "    response = self.full_dispatch_request()\n",
      "  File \"/home/sam/lib/python3.10/site-packages/flask/app.py\", line 1822, in full_dispatch_request\n",
      "    rv = self.handle_user_exception(e)\n",
      "  File \"/home/sam/lib/python3.10/site-packages/flask/app.py\", line 1820, in full_dispatch_request\n",
      "    rv = self.dispatch_request()\n",
      "  File \"/home/sam/lib/python3.10/site-packages/flask/app.py\", line 1796, in dispatch_request\n",
      "    return self.ensure_sync(self.view_functions[rule.endpoint])(**view_args)\n",
      "  File \"/tmp/ipykernel_29461/2537524619.py\", line 28, in sentiment_analysis\n",
      "    processed_text = preprocess_text(text)\n",
      "  File \"/tmp/ipykernel_29461/2537524619.py\", line 6, in preprocess_text\n",
      "    text = re.sub(r'[^a-z]+', ' ', text)\n",
      "NameError: name 're' is not defined\n",
      "127.0.0.1 - - [14/Feb/2023 11:44:47] \"\u001B[35m\u001B[1mPOST /sentiment_analysis HTTP/1.1\u001B[0m\" 500 -\n"
     ]
    },
    {
     "name": "stdout",
     "output_type": "stream",
     "text": [
      "This is a great movie\n"
     ]
    }
   ],
   "source": [
    "from flask import Flask, request\n",
    "import pickle\n",
    "\n",
    "def preprocess_text(text):\n",
    "    text = text.lower()\n",
    "    text = re.sub(r'[^a-z]+', ' ', text)\n",
    "    text = re.sub(' +', ' ', text)\n",
    "\n",
    "    factory = StemmerFactory()\n",
    "    stemmer = factory.create_stemmer()\n",
    "    text = stemmer.stem(text)\n",
    "\n",
    "    return text\n",
    "\n",
    "app = Flask(__name__)\n",
    "\n",
    "# Load the model from a file\n",
    "with open(\"model.pkl\", \"rb\") as file:\n",
    "    model = pickle.load(file)\n",
    "\n",
    "@app.route(\"/sentiment_analysis\", methods=[\"POST\"])\n",
    "def sentiment_analysis():\n",
    "    text = request.json[\"Text\"]\n",
    "\n",
    "    print(text)\n",
    "\n",
    "    # Perform NLP operations\n",
    "    processed_text = preprocess_text(text)\n",
    "    sentiment = model.predict(processed_text)\n",
    "\n",
    "    return {\"sentiment\": sentiment}\n",
    "\n",
    "if __name__ == \"__main__\":\n",
    "    app.run()\n"
   ],
   "metadata": {
    "collapsed": false,
    "pycharm": {
     "is_executing": true
    }
   }
  },
  {
   "cell_type": "code",
   "execution_count": null,
   "outputs": [],
   "source": [],
   "metadata": {
    "collapsed": false
   }
  }
 ],
 "metadata": {
  "kernelspec": {
   "display_name": "Python 3",
   "language": "python",
   "name": "python3"
  },
  "language_info": {
   "codemirror_mode": {
    "name": "ipython",
    "version": 2
   },
   "file_extension": ".py",
   "mimetype": "text/x-python",
   "name": "python",
   "nbconvert_exporter": "python",
   "pygments_lexer": "ipython2",
   "version": "2.7.6"
  }
 },
 "nbformat": 4,
 "nbformat_minor": 0
}
