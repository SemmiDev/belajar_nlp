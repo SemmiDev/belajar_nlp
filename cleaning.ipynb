{
 "cells": [
  {
   "cell_type": "code",
   "execution_count": 1,
   "metadata": {
    "collapsed": true
   },
   "outputs": [
    {
     "name": "stdout",
     "output_type": "stream",
     "text": [
      "Raw Text:  This is a simple example for text cleaning and preprocessing in NLP.\n",
      "Cleaned Text:  This is a simple example for text cleaning and preprocessing in NLP\n",
      "Tokenized Text:  ['This', 'is', 'a', 'simple', 'example', 'for', 'text', 'cleaning', 'and', 'preprocessing', 'in', 'NLP']\n",
      "Filtered Tokenized Text:  ['simple', 'example', 'text', 'cleaning', 'preprocessing', 'NLP']\n",
      "Stemmed Tokenized Text:  ['simple', 'example', 'text', 'cleaning', 'preprocessing', 'nlp']\n"
     ]
    }
   ],
   "source": [
    "import re\n",
    "import string\n",
    "from nltk.corpus import stopwords\n",
    "from nltk.tokenize import word_tokenize\n",
    "from Sastrawi.Stemmer.StemmerFactory import StemmerFactory\n",
    "\n",
    "# Step 1: Menghapus tanda baca, digit, dan simbol\n",
    "def remove_punctuation(input_string):\n",
    "    # Menghapus tanda baca, digit, dan simbol dengan re.sub()\n",
    "    # string.punctuation merupakan string yang berisi semua tanda baca\n",
    "    return re.sub('[%s]' % re.escape(string.punctuation), '', input_string)\n",
    "\n",
    "# Step 2: Menghapus stopwords\n",
    "def remove_stopwords(tokens):\n",
    "    stop_words = set(stopwords.words(\"english\"))\n",
    "    return [word for word in tokens if word.lower() not in stop_words]\n",
    "\n",
    "# Step 3: Stemming\n",
    "def stemming(tokens):\n",
    "    factory = StemmerFactory()\n",
    "    stemmer = factory.create_stemmer()\n",
    "    return [stemmer.stem(word) for word in tokens]\n",
    "\n",
    "# Step 4: Tokenisasi\n",
    "def tokenize(input_string):\n",
    "    return word_tokenize(input_string)\n",
    "\n",
    "# Aplikasi text cleaning dan preprocessing\n",
    "raw_text = \"This is a simple example for text cleaning and preprocessing in NLP.\"\n",
    "cleaned_text = remove_punctuation(raw_text)\n",
    "tokens = tokenize(cleaned_text)\n",
    "filtered_tokens = remove_stopwords(tokens)\n",
    "stemmed_tokens = stemming(filtered_tokens)\n",
    "\n",
    "print(\"Raw Text: \", raw_text)\n",
    "print(\"Cleaned Text: \", cleaned_text)\n",
    "print(\"Tokenized Text: \", tokens)\n",
    "print(\"Filtered Tokenized Text: \", filtered_tokens)\n",
    "print(\"Stemmed Tokenized Text: \", stemmed_tokens)\n"
   ]
  },
  {
   "cell_type": "code",
   "execution_count": null,
   "outputs": [],
   "source": [],
   "metadata": {
    "collapsed": false
   }
  }
 ],
 "metadata": {
  "kernelspec": {
   "display_name": "Python 3",
   "language": "python",
   "name": "python3"
  },
  "language_info": {
   "codemirror_mode": {
    "name": "ipython",
    "version": 2
   },
   "file_extension": ".py",
   "mimetype": "text/x-python",
   "name": "python",
   "nbconvert_exporter": "python",
   "pygments_lexer": "ipython2",
   "version": "2.7.6"
  }
 },
 "nbformat": 4,
 "nbformat_minor": 0
}
